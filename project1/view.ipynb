{
 "cells": [
  {
   "cell_type": "code",
   "execution_count": 87,
   "metadata": {},
   "outputs": [],
   "source": [
    "# 导入包\n",
    "import pandas as pd\n",
    "import numpy as np"
   ]
  },
  {
   "cell_type": "code",
   "execution_count": 88,
   "metadata": {},
   "outputs": [
    {
     "name": "stderr",
     "output_type": "stream",
     "text": [
      "/var/folders/ld/0xbbtvgx2tb84bwdbpf4023r0000gn/T/ipykernel_49197/192676420.py:2: DtypeWarning: Columns (1,11,12,14) have mixed types. Specify dtype option on import or set low_memory=False.\n",
      "  ori_data = pd.read_csv(\"new.csv\", encoding=\"GBK\") # 初始数据\n"
     ]
    },
    {
     "data": {
      "text/html": [
       "<div>\n",
       "<style scoped>\n",
       "    .dataframe tbody tr th:only-of-type {\n",
       "        vertical-align: middle;\n",
       "    }\n",
       "\n",
       "    .dataframe tbody tr th {\n",
       "        vertical-align: top;\n",
       "    }\n",
       "\n",
       "    .dataframe thead th {\n",
       "        text-align: right;\n",
       "    }\n",
       "</style>\n",
       "<table border=\"1\" class=\"dataframe\">\n",
       "  <thead>\n",
       "    <tr style=\"text-align: right;\">\n",
       "      <th></th>\n",
       "      <th>url</th>\n",
       "      <th>id</th>\n",
       "      <th>Lng</th>\n",
       "      <th>Lat</th>\n",
       "      <th>Cid</th>\n",
       "      <th>tradeTime</th>\n",
       "      <th>DOM</th>\n",
       "      <th>followers</th>\n",
       "      <th>totalPrice</th>\n",
       "      <th>price</th>\n",
       "      <th>...</th>\n",
       "      <th>buildingType</th>\n",
       "      <th>constructionTime</th>\n",
       "      <th>renovationCondition</th>\n",
       "      <th>buildingStructure</th>\n",
       "      <th>ladderRatio</th>\n",
       "      <th>elevator</th>\n",
       "      <th>fiveYearsProperty</th>\n",
       "      <th>subway</th>\n",
       "      <th>district</th>\n",
       "      <th>communityAverage</th>\n",
       "    </tr>\n",
       "  </thead>\n",
       "  <tbody>\n",
       "    <tr>\n",
       "      <th>0</th>\n",
       "      <td>https://bj.lianjia.com/chengjiao/101084782030....</td>\n",
       "      <td>101084782030</td>\n",
       "      <td>116.475489</td>\n",
       "      <td>40.019520</td>\n",
       "      <td>1111027376244</td>\n",
       "      <td>2016-08-09</td>\n",
       "      <td>1464.0</td>\n",
       "      <td>106</td>\n",
       "      <td>415.0</td>\n",
       "      <td>31680</td>\n",
       "      <td>...</td>\n",
       "      <td>1.0</td>\n",
       "      <td>2005</td>\n",
       "      <td>3</td>\n",
       "      <td>6</td>\n",
       "      <td>0.217</td>\n",
       "      <td>1.0</td>\n",
       "      <td>0.0</td>\n",
       "      <td>1.0</td>\n",
       "      <td>7</td>\n",
       "      <td>56021.0</td>\n",
       "    </tr>\n",
       "    <tr>\n",
       "      <th>1</th>\n",
       "      <td>https://bj.lianjia.com/chengjiao/101086012217....</td>\n",
       "      <td>101086012217</td>\n",
       "      <td>116.453917</td>\n",
       "      <td>39.881534</td>\n",
       "      <td>1111027381879</td>\n",
       "      <td>2016-07-28</td>\n",
       "      <td>903.0</td>\n",
       "      <td>126</td>\n",
       "      <td>575.0</td>\n",
       "      <td>43436</td>\n",
       "      <td>...</td>\n",
       "      <td>1.0</td>\n",
       "      <td>2004</td>\n",
       "      <td>4</td>\n",
       "      <td>6</td>\n",
       "      <td>0.667</td>\n",
       "      <td>1.0</td>\n",
       "      <td>1.0</td>\n",
       "      <td>0.0</td>\n",
       "      <td>7</td>\n",
       "      <td>71539.0</td>\n",
       "    </tr>\n",
       "    <tr>\n",
       "      <th>2</th>\n",
       "      <td>https://bj.lianjia.com/chengjiao/101086041636....</td>\n",
       "      <td>101086041636</td>\n",
       "      <td>116.561978</td>\n",
       "      <td>39.877145</td>\n",
       "      <td>1111040862969</td>\n",
       "      <td>2016-12-11</td>\n",
       "      <td>1271.0</td>\n",
       "      <td>48</td>\n",
       "      <td>1030.0</td>\n",
       "      <td>52021</td>\n",
       "      <td>...</td>\n",
       "      <td>4.0</td>\n",
       "      <td>2005</td>\n",
       "      <td>3</td>\n",
       "      <td>6</td>\n",
       "      <td>0.500</td>\n",
       "      <td>1.0</td>\n",
       "      <td>0.0</td>\n",
       "      <td>0.0</td>\n",
       "      <td>7</td>\n",
       "      <td>48160.0</td>\n",
       "    </tr>\n",
       "    <tr>\n",
       "      <th>3</th>\n",
       "      <td>https://bj.lianjia.com/chengjiao/101086406841....</td>\n",
       "      <td>101086406841</td>\n",
       "      <td>116.438010</td>\n",
       "      <td>40.076114</td>\n",
       "      <td>1111043185817</td>\n",
       "      <td>2016-09-30</td>\n",
       "      <td>965.0</td>\n",
       "      <td>138</td>\n",
       "      <td>297.5</td>\n",
       "      <td>22202</td>\n",
       "      <td>...</td>\n",
       "      <td>1.0</td>\n",
       "      <td>2008</td>\n",
       "      <td>1</td>\n",
       "      <td>6</td>\n",
       "      <td>0.273</td>\n",
       "      <td>1.0</td>\n",
       "      <td>0.0</td>\n",
       "      <td>0.0</td>\n",
       "      <td>6</td>\n",
       "      <td>51238.0</td>\n",
       "    </tr>\n",
       "    <tr>\n",
       "      <th>4</th>\n",
       "      <td>https://bj.lianjia.com/chengjiao/101086920653....</td>\n",
       "      <td>101086920653</td>\n",
       "      <td>116.428392</td>\n",
       "      <td>39.886229</td>\n",
       "      <td>1111027381174</td>\n",
       "      <td>2016-08-28</td>\n",
       "      <td>927.0</td>\n",
       "      <td>286</td>\n",
       "      <td>392.0</td>\n",
       "      <td>48396</td>\n",
       "      <td>...</td>\n",
       "      <td>4.0</td>\n",
       "      <td>1960</td>\n",
       "      <td>2</td>\n",
       "      <td>2</td>\n",
       "      <td>0.333</td>\n",
       "      <td>0.0</td>\n",
       "      <td>1.0</td>\n",
       "      <td>1.0</td>\n",
       "      <td>1</td>\n",
       "      <td>62588.0</td>\n",
       "    </tr>\n",
       "  </tbody>\n",
       "</table>\n",
       "<p>5 rows × 26 columns</p>\n",
       "</div>"
      ],
      "text/plain": [
       "                                                 url            id  \\\n",
       "0  https://bj.lianjia.com/chengjiao/101084782030....  101084782030   \n",
       "1  https://bj.lianjia.com/chengjiao/101086012217....  101086012217   \n",
       "2  https://bj.lianjia.com/chengjiao/101086041636....  101086041636   \n",
       "3  https://bj.lianjia.com/chengjiao/101086406841....  101086406841   \n",
       "4  https://bj.lianjia.com/chengjiao/101086920653....  101086920653   \n",
       "\n",
       "          Lng        Lat            Cid   tradeTime     DOM  followers  \\\n",
       "0  116.475489  40.019520  1111027376244  2016-08-09  1464.0        106   \n",
       "1  116.453917  39.881534  1111027381879  2016-07-28   903.0        126   \n",
       "2  116.561978  39.877145  1111040862969  2016-12-11  1271.0         48   \n",
       "3  116.438010  40.076114  1111043185817  2016-09-30   965.0        138   \n",
       "4  116.428392  39.886229  1111027381174  2016-08-28   927.0        286   \n",
       "\n",
       "   totalPrice  price  ...  buildingType constructionTime renovationCondition  \\\n",
       "0       415.0  31680  ...           1.0             2005                   3   \n",
       "1       575.0  43436  ...           1.0             2004                   4   \n",
       "2      1030.0  52021  ...           4.0             2005                   3   \n",
       "3       297.5  22202  ...           1.0             2008                   1   \n",
       "4       392.0  48396  ...           4.0             1960                   2   \n",
       "\n",
       "   buildingStructure ladderRatio elevator  fiveYearsProperty subway  district  \\\n",
       "0                  6       0.217      1.0                0.0    1.0         7   \n",
       "1                  6       0.667      1.0                1.0    0.0         7   \n",
       "2                  6       0.500      1.0                0.0    0.0         7   \n",
       "3                  6       0.273      1.0                0.0    0.0         6   \n",
       "4                  2       0.333      0.0                1.0    1.0         1   \n",
       "\n",
       "   communityAverage  \n",
       "0           56021.0  \n",
       "1           71539.0  \n",
       "2           48160.0  \n",
       "3           51238.0  \n",
       "4           62588.0  \n",
       "\n",
       "[5 rows x 26 columns]"
      ]
     },
     "execution_count": 88,
     "metadata": {},
     "output_type": "execute_result"
    }
   ],
   "source": [
    "# 读取数据\n",
    "ori_data = pd.read_csv(\"new.csv\", encoding=\"GBK\") # 初始数据\n",
    "# 查看数据\n",
    "ori_data.head()"
   ]
  },
  {
   "cell_type": "code",
   "execution_count": 89,
   "metadata": {},
   "outputs": [
    {
     "name": "stdout",
     "output_type": "stream",
     "text": [
      "<class 'pandas.core.frame.DataFrame'>\n",
      "RangeIndex: 318851 entries, 0 to 318850\n",
      "Data columns (total 26 columns):\n",
      " #   Column               Non-Null Count   Dtype  \n",
      "---  ------               --------------   -----  \n",
      " 0   url                  318851 non-null  object \n",
      " 1   id                   318851 non-null  object \n",
      " 2   Lng                  318851 non-null  float64\n",
      " 3   Lat                  318851 non-null  float64\n",
      " 4   Cid                  318851 non-null  int64  \n",
      " 5   tradeTime            318851 non-null  object \n",
      " 6   DOM                  160874 non-null  float64\n",
      " 7   followers            318851 non-null  int64  \n",
      " 8   totalPrice           318851 non-null  float64\n",
      " 9   price                318851 non-null  int64  \n",
      " 10  square               318851 non-null  float64\n",
      " 11  livingRoom           318851 non-null  object \n",
      " 12  drawingRoom          318851 non-null  object \n",
      " 13  kitchen              318851 non-null  int64  \n",
      " 14  bathRoom             318851 non-null  object \n",
      " 15  floor                318851 non-null  object \n",
      " 16  buildingType         316830 non-null  float64\n",
      " 17  constructionTime     318851 non-null  object \n",
      " 18  renovationCondition  318851 non-null  int64  \n",
      " 19  buildingStructure    318851 non-null  int64  \n",
      " 20  ladderRatio          318851 non-null  float64\n",
      " 21  elevator             318819 non-null  float64\n",
      " 22  fiveYearsProperty    318819 non-null  float64\n",
      " 23  subway               318819 non-null  float64\n",
      " 24  district             318851 non-null  int64  \n",
      " 25  communityAverage     318388 non-null  float64\n",
      "dtypes: float64(11), int64(7), object(8)\n",
      "memory usage: 63.2+ MB\n"
     ]
    }
   ],
   "source": [
    "ori_data.info()"
   ]
  },
  {
   "cell_type": "markdown",
   "metadata": {},
   "source": [
    "# 查看每列的数据类型，并检查每列的缺失值\n",
    "## 数据形状\n",
    "318851x26\n",
    "## 列属性描述\n",
    "- url:用于获取数据的URL\n",
    "- id:交易的ID\n",
    "- Lng/Lat:经纬度坐标，使用BD09协议\n",
    "- Cid:社区ID\n",
    "- tradeTime:交易时间\n",
    "- DOM:该交易在市场上的活跃天数\n",
    "- followers: 交易的关注人数\n",
    "- totalPrice: 交易总价\n",
    "- price:每平方米价格\n",
    "- square:房屋面积\n",
    "- livingRoom:客厅数量\n",
    "- drawingRoom:书房数量\n",
    "- kitchen:厨房数量\n",
    "- bathroom:浴室数量\n",
    "- floor:房屋高度\n",
    "- buildingType:建筑类型，包括塔楼（1）、平房（2）、板楼和塔楼的组合（3）和板楼\n",
    "- constructionTime:建造时间\n",
    "- renovationCondition:包括其他（1）、毛坯（2）、简装修（3）和精装修（4）\n",
    "- buildingStructure: 建筑结构：包括其他（1）、混合（2）、砖木（3）、砖混（4）、钢结构（5）和钢筋混泥土复合结构（6）\n",
    "- ladderRatio:楼户比,同一楼层居民数量与电梯数量的比例，描述了居民楼平均拥有多少电梯\n",
    "- elevator:有电梯（1）或没有电梯（0）\n",
    "- fiveYearsProperty:业主拥有该房产是否少于五年，是为（0），不是为（1）\n",
    "- subway:房屋附近是否有地铁，有为1，没有为0\n",
    "- district:房屋所在行政区代号\n",
    "- communityAverage:小区房屋均价"
   ]
  },
  {
   "cell_type": "code",
   "execution_count": 90,
   "metadata": {},
   "outputs": [
    {
     "data": {
      "text/html": [
       "<div>\n",
       "<style scoped>\n",
       "    .dataframe tbody tr th:only-of-type {\n",
       "        vertical-align: middle;\n",
       "    }\n",
       "\n",
       "    .dataframe tbody tr th {\n",
       "        vertical-align: top;\n",
       "    }\n",
       "\n",
       "    .dataframe thead th {\n",
       "        text-align: right;\n",
       "    }\n",
       "</style>\n",
       "<table border=\"1\" class=\"dataframe\">\n",
       "  <thead>\n",
       "    <tr style=\"text-align: right;\">\n",
       "      <th></th>\n",
       "      <th>missing_col</th>\n",
       "      <th>missing_col_count</th>\n",
       "      <th>missing_col_perc</th>\n",
       "    </tr>\n",
       "  </thead>\n",
       "  <tbody>\n",
       "    <tr>\n",
       "      <th>0</th>\n",
       "      <td>DOM</td>\n",
       "      <td>157977</td>\n",
       "      <td>0.495457</td>\n",
       "    </tr>\n",
       "    <tr>\n",
       "      <th>1</th>\n",
       "      <td>buildingType</td>\n",
       "      <td>2021</td>\n",
       "      <td>0.006338</td>\n",
       "    </tr>\n",
       "    <tr>\n",
       "      <th>2</th>\n",
       "      <td>elevator</td>\n",
       "      <td>32</td>\n",
       "      <td>0.000100</td>\n",
       "    </tr>\n",
       "    <tr>\n",
       "      <th>3</th>\n",
       "      <td>fiveYearsProperty</td>\n",
       "      <td>32</td>\n",
       "      <td>0.000100</td>\n",
       "    </tr>\n",
       "    <tr>\n",
       "      <th>4</th>\n",
       "      <td>subway</td>\n",
       "      <td>32</td>\n",
       "      <td>0.000100</td>\n",
       "    </tr>\n",
       "    <tr>\n",
       "      <th>5</th>\n",
       "      <td>communityAverage</td>\n",
       "      <td>463</td>\n",
       "      <td>0.001452</td>\n",
       "    </tr>\n",
       "  </tbody>\n",
       "</table>\n",
       "</div>"
      ],
      "text/plain": [
       "         missing_col  missing_col_count  missing_col_perc\n",
       "0                DOM             157977          0.495457\n",
       "1       buildingType               2021          0.006338\n",
       "2           elevator                 32          0.000100\n",
       "3  fiveYearsProperty                 32          0.000100\n",
       "4             subway                 32          0.000100\n",
       "5   communityAverage                463          0.001452"
      ]
     },
     "execution_count": 90,
     "metadata": {},
     "output_type": "execute_result"
    }
   ],
   "source": [
    "# 缺失值统计\n",
    "missing_col = ori_data.isna().any()[ori_data.isna().any() == True]\n",
    "missing_col_count = ori_data.isna().sum()[ori_data.isna().sum()!=0]\n",
    "missing_col_perc = missing_col_count / 318851\n",
    "missing_data = pd.DataFrame({\n",
    "    'missing_col':missing_col.index,\n",
    "    'missing_col_count':missing_col_count.reset_index(drop=True),\n",
    "    'missing_col_perc':missing_col_perc.reset_index(drop=True)\n",
    "})\n",
    "missing_data"
   ]
  },
  {
   "cell_type": "markdown",
   "metadata": {},
   "source": [
    "# 缺失值处理\n",
    "由于DOM列的缺失值占比近50%，因此选择删除DOM列。\n",
    "其余列的缺失值占比很少，因此删除具有缺失值的行。"
   ]
  },
  {
   "cell_type": "code",
   "execution_count": 91,
   "metadata": {},
   "outputs": [
    {
     "data": {
      "text/plain": [
       "url                    False\n",
       "id                     False\n",
       "Lng                    False\n",
       "Lat                    False\n",
       "Cid                    False\n",
       "tradeTime              False\n",
       "followers              False\n",
       "totalPrice             False\n",
       "price                  False\n",
       "square                 False\n",
       "livingRoom             False\n",
       "drawingRoom            False\n",
       "kitchen                False\n",
       "bathRoom               False\n",
       "floor                  False\n",
       "buildingType           False\n",
       "constructionTime       False\n",
       "renovationCondition    False\n",
       "buildingStructure      False\n",
       "ladderRatio            False\n",
       "elevator               False\n",
       "fiveYearsProperty      False\n",
       "subway                 False\n",
       "district               False\n",
       "communityAverage       False\n",
       "dtype: bool"
      ]
     },
     "execution_count": 91,
     "metadata": {},
     "output_type": "execute_result"
    }
   ],
   "source": [
    "ori_data.drop(columns=['DOM'],inplace=True)\n",
    "ori_data.dropna(how='any',inplace=True)\n",
    "ori_data.isna().any()"
   ]
  },
  {
   "cell_type": "markdown",
   "metadata": {},
   "source": [
    "经检查，数据中不再具有缺失值。"
   ]
  },
  {
   "cell_type": "code",
   "execution_count": 92,
   "metadata": {},
   "outputs": [],
   "source": [
    "# 由于url列与分析目标无关，因此删除url列\n",
    "ori_data.drop(columns=['url'],inplace=True)"
   ]
  },
  {
   "cell_type": "code",
   "execution_count": 93,
   "metadata": {},
   "outputs": [
    {
     "data": {
      "text/plain": [
       "id                      object\n",
       "Lng                    float64\n",
       "Lat                    float64\n",
       "Cid                      int64\n",
       "tradeTime               object\n",
       "followers                int64\n",
       "totalPrice             float64\n",
       "price                    int64\n",
       "square                 float64\n",
       "livingRoom              object\n",
       "drawingRoom             object\n",
       "kitchen                  int64\n",
       "bathRoom                object\n",
       "floor                   object\n",
       "buildingType           float64\n",
       "constructionTime        object\n",
       "renovationCondition      int64\n",
       "buildingStructure        int64\n",
       "ladderRatio            float64\n",
       "elevator               float64\n",
       "fiveYearsProperty      float64\n",
       "subway                 float64\n",
       "district                 int64\n",
       "communityAverage       float64\n",
       "dtype: object"
      ]
     },
     "execution_count": 93,
     "metadata": {},
     "output_type": "execute_result"
    }
   ],
   "source": [
    "# 检查数据类型，按变量属性更改其类型\n",
    "ori_data.dtypes"
   ]
  },
  {
   "cell_type": "code",
   "execution_count": 94,
   "metadata": {},
   "outputs": [],
   "source": [
    "ori_data['Cid'] = ori_data['Cid'].astype(str)\n",
    "ori_data['tradeTime'] = pd.to_datetime(ori_data['tradeTime'])\n",
    "ori_data[['livingRoom', 'drawingRoom','bathRoom']]=ori_data[['livingRoom','drawingRoom','bathRoom']].astype(int)\n",
    "ori_data[['buildingType','renovationCondition', 'buildingStructure', 'elevator', 'fiveYearsProperty','subway', 'district']] = ori_data[['buildingType','renovationCondition', 'buildingStructure', 'elevator', 'fiveYearsProperty','subway', 'district']].astype(str)"
   ]
  },
  {
   "cell_type": "code",
   "execution_count": 95,
   "metadata": {},
   "outputs": [
    {
     "data": {
      "text/plain": [
       "id                             object\n",
       "Lng                           float64\n",
       "Lat                           float64\n",
       "Cid                            object\n",
       "tradeTime              datetime64[ns]\n",
       "followers                       int64\n",
       "totalPrice                    float64\n",
       "price                           int64\n",
       "square                        float64\n",
       "livingRoom                      int64\n",
       "drawingRoom                     int64\n",
       "kitchen                         int64\n",
       "bathRoom                        int64\n",
       "floor                          object\n",
       "buildingType                   object\n",
       "constructionTime               object\n",
       "renovationCondition            object\n",
       "buildingStructure              object\n",
       "ladderRatio                   float64\n",
       "elevator                       object\n",
       "fiveYearsProperty              object\n",
       "subway                         object\n",
       "district                       object\n",
       "communityAverage              float64\n",
       "dtype: object"
      ]
     },
     "execution_count": 95,
     "metadata": {},
     "output_type": "execute_result"
    }
   ],
   "source": [
    "ori_data.dtypes"
   ]
  },
  {
   "cell_type": "code",
   "execution_count": 96,
   "metadata": {},
   "outputs": [],
   "source": [
    "ori_data[['floor_type', 'floor']] =ori_data['floor']. str.split(' ', expand=True)"
   ]
  },
  {
   "cell_type": "code",
   "execution_count": 97,
   "metadata": {},
   "outputs": [],
   "source": [
    "ori_data['floor'] = ori_data['floor'].astype(int)\n",
    "ori_data.drop(columns=['floor_type'], inplace=True)"
   ]
  },
  {
   "cell_type": "code",
   "execution_count": 108,
   "metadata": {},
   "outputs": [],
   "source": [
    "ori_data.drop(ori_data[ori_data['followers']==0].index, inplace=True)"
   ]
  },
  {
   "cell_type": "code",
   "execution_count": 111,
   "metadata": {},
   "outputs": [
    {
     "data": {
      "text/plain": [
       "id                             object\n",
       "Lng                           float64\n",
       "Lat                           float64\n",
       "Cid                            object\n",
       "tradeTime              datetime64[ns]\n",
       "followers                       int64\n",
       "totalPrice                    float64\n",
       "price                           int64\n",
       "square                        float64\n",
       "livingRoom                      int64\n",
       "drawingRoom                     int64\n",
       "kitchen                         int64\n",
       "bathRoom                        int64\n",
       "floor                           int64\n",
       "buildingType                   object\n",
       "constructionTime               object\n",
       "renovationCondition            object\n",
       "buildingStructure              object\n",
       "ladderRatio                   float64\n",
       "elevator                       object\n",
       "fiveYearsProperty              object\n",
       "subway                         object\n",
       "district                       object\n",
       "communityAverage              float64\n",
       "dtype: object"
      ]
     },
     "execution_count": 111,
     "metadata": {},
     "output_type": "execute_result"
    }
   ],
   "source": [
    "ori_data.dtypes"
   ]
  },
  {
   "cell_type": "code",
   "execution_count": 110,
   "metadata": {},
   "outputs": [],
   "source": [
    "ori_data.to_pickle('BeijingRent.pkl')"
   ]
  }
 ],
 "metadata": {
  "kernelspec": {
   "display_name": "venv",
   "language": "python",
   "name": "python3"
  },
  "language_info": {
   "codemirror_mode": {
    "name": "ipython",
    "version": 3
   },
   "file_extension": ".py",
   "mimetype": "text/x-python",
   "name": "python",
   "nbconvert_exporter": "python",
   "pygments_lexer": "ipython3",
   "version": "3.13.0"
  }
 },
 "nbformat": 4,
 "nbformat_minor": 2
}
