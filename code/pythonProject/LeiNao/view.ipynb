{
 "cells": [
  {
   "cell_type": "code",
   "execution_count": 1,
   "metadata": {},
   "outputs": [],
   "source": [
    "import pandas as pd"
   ]
  },
  {
   "cell_type": "code",
   "execution_count": 2,
   "metadata": {},
   "outputs": [],
   "source": [
    "# read\n",
    "df_csdn_ibm = pd.read_excel(\"CSDN-IBM 类脑芯片.xlsx\")\n",
    "df_csdn_vip_ibm = pd.read_excel(\"CSDN-vip-IBM 类脑芯片.xlsx\")\n",
    "df_csdn_vip_lx = pd.read_excel(\"CSDN-vip-灵汐科技 类脑芯片.xlsx\")\n",
    "df_csdn_lx = pd.read_excel(\"CSDN-灵汐科技 类脑芯片.xlsx\")\n",
    "df_zgw_ibm = pd.read_excel(\"中国网-IBM.xlsx\")\n",
    "df_zgw_lx = pd.read_excel(\"中国网-灵汐科技.xlsx\")\n",
    "df_zgw_lnxp = pd.read_excel(\"中国网-类脑芯片.xlsx\")\n",
    "df_zh_ln_ibm = pd.read_excel(\"知乎-类脑&IBM.xlsx\")"
   ]
  },
  {
   "cell_type": "code",
   "execution_count": 3,
   "metadata": {},
   "outputs": [
    {
     "name": "stdout",
     "output_type": "stream",
     "text": [
      "df_csdn_ibm \n",
      "its columns:  ['关键词', '标题', '详情页_链接', '发布时间', '正文'] \n",
      "its numbers:  21 \n",
      "\n",
      "df_csdn_vip_ibm \n",
      "its columns:  ['链接', '标题', '作者', '发布时间', '正文'] \n",
      "its numbers:  81 \n",
      "\n",
      "df_csdn_lx \n",
      "its columns:  ['关键词', '标题', '详情页_链接', '发布时间', '正文'] \n",
      "its numbers:  10 \n",
      "\n",
      "df_csdn_vip_lx \n",
      "its columns:  ['链接', '标题', '作者', '发布时间', '正文'] \n",
      "its numbers:  80 \n",
      "\n",
      "df_zgw_ibm \n",
      "its columns:  ['关键词', '标题', '详情页_链接', '发布时间', '简介摘要', '来源', '正文', '图片链接'] \n",
      "its numbers:  199 \n",
      "\n",
      "df_zgw_lx \n",
      "its columns:  ['关键词', '标题', '详情页_链接', '发布时间', '简介摘要', '来源', '正文', '图片链接'] \n",
      "its numbers:  1 \n",
      "\n",
      "df_zgw_lnxp \n",
      "its columns:  ['关键词', '标题', '详情页_链接', '发布时间', '简介摘要', '来源', '正文', '图片链接'] \n",
      "its numbers:  27 \n",
      "\n",
      "df_zh_ln_ibm \n",
      "its columns:  ['问题标题', '问题内容', '答主昵称', '回答时间', '赞同数', '评论数', '回答内容'] \n",
      "its numbers:  57 \n",
      "\n"
     ]
    }
   ],
   "source": [
    "# view columns\n",
    "df:list = [df_csdn_ibm, df_csdn_vip_ibm,\n",
    "           df_csdn_lx, df_csdn_vip_lx,\n",
    "           df_zgw_ibm, df_zgw_lx,\n",
    "           df_zgw_lnxp, df_zh_ln_ibm]\n",
    "df_name:list =[\"df_csdn_ibm\", \"df_csdn_vip_ibm\",\n",
    "               \"df_csdn_lx\", \"df_csdn_vip_lx\",\n",
    "               \"df_zgw_ibm\", \"df_zgw_lx\",\n",
    "               \"df_zgw_lnxp\", \"df_zh_ln_ibm\"]\n",
    "for item_name, item in zip(df_name,df):\n",
    "    print(item_name, \"\\nits columns: \", item.columns.tolist(),\n",
    "          \"\\nits numbers: \", item.shape[0],\"\\n\")"
   ]
  },
  {
   "cell_type": "code",
   "execution_count": 4,
   "metadata": {},
   "outputs": [],
   "source": [
    "df_ibm_1 = df_csdn_ibm[[\"标题\", \"发布时间\", \"正文\"]]\n",
    "df_ibm_2 = df_csdn_vip_ibm[[\"标题\",\"发布时间\", \"正文\"]]\n",
    "# df_ibm_3 = df_zgw_ibm[[\"标题\",\"发布时间\", \"正文\"]]\n",
    "df_ibm = pd.concat([df_ibm_1, df_ibm_2],axis=0,ignore_index=True)"
   ]
  },
  {
   "cell_type": "code",
   "execution_count": 5,
   "metadata": {},
   "outputs": [
    {
     "name": "stdout",
     "output_type": "stream",
     "text": [
      "0\n",
      "0\n"
     ]
    }
   ],
   "source": [
    "print(df_ibm_1[df_ibm_1['正文'].isna()].shape[0])\n",
    "print(df_ibm_2[df_ibm_2['正文'].isna()].shape[0])\n",
    "# rint(df_ibm_3[df_ibm_3['正文'].isna()].shape[0]) #ibm3 正文列存在大量空值"
   ]
  },
  {
   "cell_type": "code",
   "execution_count": 6,
   "metadata": {},
   "outputs": [],
   "source": [
    "df_lx_1 = df_csdn_lx[[\"标题\", \"发布时间\", \"正文\"]]\n",
    "df_lx_2 = df_csdn_vip_lx[[\"标题\", \"发布时间\", \"正文\"]]\n",
    "# df_lx_3 = df_zgw_lx[[\"标题\", \"发布时间\", \"正文\"]]\n",
    "df_lx = pd.concat([df_lx_1, df_lx_2],axis=0,ignore_index=True)"
   ]
  },
  {
   "cell_type": "code",
   "execution_count": 7,
   "metadata": {},
   "outputs": [
    {
     "name": "stdout",
     "output_type": "stream",
     "text": [
      "0\n",
      "0\n",
      "0\n"
     ]
    }
   ],
   "source": [
    "print(df_lx_1[df_lx_1['正文'].isna()].shape[0])\n",
    "print(df_lx_2[df_lx_2['正文'].isna()].shape[0])\n",
    "# print(df_lx_3[df_lx_3['正文'].isna()].shape[0])\n",
    "print(df_lx[df_lx['正文'].isna()].shape[0]) "
   ]
  },
  {
   "cell_type": "code",
   "execution_count": 8,
   "metadata": {},
   "outputs": [
    {
     "name": "stdout",
     "output_type": "stream",
     "text": [
      "IBM\n",
      "Before dropping duplicates:  102\n",
      "After droppoing duplicates:  101 \n",
      "\n",
      "LX\n",
      "Before dropping duplicates:  90\n",
      "After droppoing duplicates:  88\n"
     ]
    }
   ],
   "source": [
    "# drop duplicates\n",
    "print(\"IBM\")\n",
    "print(\"Before dropping duplicates: \", df_ibm.shape[0])\n",
    "df_ibm.drop_duplicates(inplace=True)\n",
    "print(\"After droppoing duplicates: \", df_ibm.shape[0],'\\n')\n",
    "print(\"LX\")\n",
    "print(\"Before dropping duplicates: \", df_lx.shape[0])\n",
    "df_lx.drop_duplicates(inplace=True)\n",
    "print(\"After droppoing duplicates: \", df_lx.shape[0])"
   ]
  },
  {
   "cell_type": "code",
   "execution_count": 9,
   "metadata": {},
   "outputs": [
    {
     "name": "stdout",
     "output_type": "stream",
     "text": [
      "IBM\n",
      "Before dropping duplicates:  101\n",
      "After droppoing duplicates:  101 \n",
      "\n"
     ]
    }
   ],
   "source": [
    "# drop null\n",
    "print(\"IBM\")\n",
    "print(\"Before dropping null: \", df_ibm.shape[0])\n",
    "df_ibm.dropna(subset=[\"正文\"],inplace=True)\n",
    "print(\"After droppoing null: \", df_ibm.shape[0],'\\n')"
   ]
  },
  {
   "cell_type": "code",
   "execution_count": 10,
   "metadata": {},
   "outputs": [],
   "source": [
    "df_lx.to_csv(\"lx.csv\", index=False, encoding=\"utf-8\")"
   ]
  },
  {
   "cell_type": "code",
   "execution_count": 11,
   "metadata": {},
   "outputs": [],
   "source": [
    "df_ibm.to_csv(\"ibm.csv\", index=False, encoding=\"utf-8\")"
   ]
  }
 ],
 "metadata": {
  "kernelspec": {
   "display_name": "venv",
   "language": "python",
   "name": "python3"
  },
  "language_info": {
   "codemirror_mode": {
    "name": "ipython",
    "version": 3
   },
   "file_extension": ".py",
   "mimetype": "text/x-python",
   "name": "python",
   "nbconvert_exporter": "python",
   "pygments_lexer": "ipython3",
   "version": "3.13.0"
  }
 },
 "nbformat": 4,
 "nbformat_minor": 2
}
